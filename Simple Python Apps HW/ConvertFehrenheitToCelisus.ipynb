{
  "nbformat": 4,
  "nbformat_minor": 0,
  "metadata": {
    "colab": {
      "name": "ConvertFehrenheitToCelisus.ipynb",
      "provenance": [],
      "collapsed_sections": [],
      "authorship_tag": "ABX9TyNksWmbyCwVpU4tPZTTwwrl",
      "include_colab_link": true
    },
    "kernelspec": {
      "name": "python3",
      "display_name": "Python 3"
    },
    "language_info": {
      "name": "python"
    }
  },
  "cells": [
    {
      "cell_type": "markdown",
      "metadata": {
        "id": "view-in-github",
        "colab_type": "text"
      },
      "source": [
        "<a href=\"https://colab.research.google.com/github/JoHussien/DSPAssignments/blob/main/Simple%20Python%20Apps%20HW/ConvertFehrenheitToCelisus.ipynb\" target=\"_parent\"><img src=\"https://colab.research.google.com/assets/colab-badge.svg\" alt=\"Open In Colab\"/></a>"
      ]
    },
    {
      "cell_type": "markdown",
      "metadata": {
        "id": "DlIE2BBFDFtq"
      },
      "source": [
        "# **Fehrenheit to Celisius Converter**"
      ]
    },
    {
      "cell_type": "code",
      "metadata": {
        "colab": {
          "base_uri": "https://localhost:8080/",
          "height": 35
        },
        "id": "muCVyJ_PDMzw",
        "outputId": "c86d65fd-3b12-40b9-e03b-8ecb1f89cce7"
      },
      "source": [
        "\"\"\" This simple application is simply used to convert from Fehrenheit Degree to a Celisius Degree\"\"\""
      ],
      "execution_count": 1,
      "outputs": [
        {
          "output_type": "execute_result",
          "data": {
            "application/vnd.google.colaboratory.intrinsic+json": {
              "type": "string"
            },
            "text/plain": [
              "' This simple application is simply used to convert from Fehrenheit Degree to a Celisius Degree'"
            ]
          },
          "metadata": {},
          "execution_count": 1
        }
      ]
    },
    {
      "cell_type": "code",
      "metadata": {
        "colab": {
          "base_uri": "https://localhost:8080/"
        },
        "id": "WcIwIvvXDYGn",
        "outputId": "fc445c09-b88d-43c2-d7f2-310374be659d"
      },
      "source": [
        "#Ask the user for their input\n",
        "print(\"This simple application is developed by Youssef M. Hussien. \\nPlease enter a Fehrenheit degree to convert it to a Celisus degree.\")\n",
        "#Take input from the user\n",
        "fehrDegree = int (input())\n",
        "print(\"You have entered {0} Fehrenheit degree\".format(fehrDegree))\n",
        "# print(\"This\") \n",
        "# The is the formula to convert Fehrenheit to Celisus(32°F − 32) × 5/9 = 0°C\n",
        "celsDegree = (fehrDegree - 32) * (5/9)\n",
        "#Prompting to the user the result (The Celisus degree)\n",
        "print(\"The equivalent Celisius degree to your input Fehrenheit degree is :\\n {0} celisius degree\".format(celsDegree))\n"
      ],
      "execution_count": 5,
      "outputs": [
        {
          "output_type": "stream",
          "name": "stdout",
          "text": [
            "This simple application is developed by Youssef M. Hussien. \n",
            "Please enter a Fehrenheit degree to convert it to a Celisus degree.\n",
            "0\n",
            "You have entered 0 Fehrenheit degree\n",
            "The equivalent Celisius degree to your input Fehrenheit degree is :\n",
            " -17.77777777777778 celisius degree\n"
          ]
        }
      ]
    },
    {
      "cell_type": "code",
      "metadata": {
        "id": "tPS9Dw7AE0Np"
      },
      "source": [
        ""
      ],
      "execution_count": null,
      "outputs": []
    }
  ]
}