{
  "nbformat": 4,
  "nbformat_minor": 0,
  "metadata": {
    "colab": {
      "name": "lbToKgAndOunces.ipynb",
      "provenance": [],
      "collapsed_sections": [],
      "authorship_tag": "ABX9TyNSZemrQ/4ewt6v1IMxmr1s",
      "include_colab_link": true
    },
    "kernelspec": {
      "name": "python3",
      "display_name": "Python 3"
    },
    "language_info": {
      "name": "python"
    }
  },
  "cells": [
    {
      "cell_type": "markdown",
      "metadata": {
        "id": "view-in-github",
        "colab_type": "text"
      },
      "source": [
        "<a href=\"https://colab.research.google.com/github/JoHussien/DSPAssignments/blob/main/Simple%20Python%20Apps%20HW/lbToKgAndOunces.ipynb\" target=\"_parent\"><img src=\"https://colab.research.google.com/assets/colab-badge.svg\" alt=\"Open In Colab\"/></a>"
      ]
    },
    {
      "cell_type": "markdown",
      "metadata": {
        "id": "MA2qDXrfIIeg"
      },
      "source": [
        "# **Pounds to Kilogram and Ounces Converter**"
      ]
    },
    {
      "cell_type": "code",
      "metadata": {
        "colab": {
          "base_uri": "https://localhost:8080/",
          "height": 35
        },
        "id": "N94bUGN7HjWE",
        "outputId": "7745f6cf-e9e6-4ae3-8e6f-6e7daf058562"
      },
      "source": [
        "\"\"\" This simple application is simply used to convert from Pounds (lb) mass value to a Kilogram (KG) and to Ounces measurments\"\"\""
      ],
      "execution_count": 2,
      "outputs": [
        {
          "output_type": "execute_result",
          "data": {
            "application/vnd.google.colaboratory.intrinsic+json": {
              "type": "string"
            },
            "text/plain": [
              "' This simple application is simply used to convert from Pounds mass weight to a Kilogram and to Ounces measurments'"
            ]
          },
          "metadata": {},
          "execution_count": 2
        }
      ]
    },
    {
      "cell_type": "code",
      "metadata": {
        "colab": {
          "base_uri": "https://localhost:8080/"
        },
        "id": "WOBJeD-CIH9Z",
        "outputId": "98075372-0229-4f2f-9395-cef3c9db1209"
      },
      "source": [
        "#Ask the user for their input\n",
        "print(\"This simple application is developed by Youssef M. Hussien. \\nPlease enter a Pound (lb) measurment to convert it to a Kilogram (KG) and to Ounces measurment.\")\n",
        "#Take input from the user\n",
        "pound = int (input())\n",
        "print(\"You have entered {0} Pounds value\".format(pound))\n",
        "# These are the used conversion forumals\n",
        "kg = (pound / 2.205)\n",
        "ounce = (pound /16)\n",
        "#Prompting to the user the result (The ounces measurment and the kilograms measurement)\n",
        "print(\"The equivalent conversions:\\n1)  {0} pounds (lbs)  = {1} ounces. \\n2)  {0} pounds (lbs)  = {2} kilograms (kg).\".format(pound,ounce,kg))"
      ],
      "execution_count": 6,
      "outputs": [
        {
          "output_type": "stream",
          "name": "stdout",
          "text": [
            "This simple application is developed by Youssef M. Hussien. \n",
            "Please enter a Pound (lb) measurment to convert it to a Kilogram (KG) and to Ounces measurment.\n",
            "10\n",
            "You have entered 10 Pounds value\n",
            "The equivalent conversions:\n",
            "1)  10 pounds (lbs)  = 0.625 ounces. \n",
            "2)  10 pounds (lbs)  = 4.535147392290249 kilograms (kg).\n"
          ]
        }
      ]
    },
    {
      "cell_type": "code",
      "metadata": {
        "id": "XQy9_oLwJ2q7"
      },
      "source": [
        ""
      ],
      "execution_count": null,
      "outputs": []
    }
  ]
}