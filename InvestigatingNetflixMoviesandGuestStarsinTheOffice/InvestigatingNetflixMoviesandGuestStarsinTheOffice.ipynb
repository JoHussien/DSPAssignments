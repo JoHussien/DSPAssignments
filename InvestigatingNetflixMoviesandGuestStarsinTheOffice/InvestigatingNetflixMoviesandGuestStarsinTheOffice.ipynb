{
  "nbformat": 4,
  "nbformat_minor": 0,
  "metadata": {
    "kernelspec": {
      "name": "python3",
      "display_name": "Python 3",
      "language": "python"
    },
    "language_info": {
      "name": "python",
      "version": "3.6.7",
      "mimetype": "text/x-python",
      "codemirror_mode": {
        "name": "ipython",
        "version": 3
      },
      "pygments_lexer": "ipython3",
      "nbconvert_exporter": "python",
      "file_extension": ".py"
    },
    "colab": {
      "name": "InvestigatingNetflixMoviesandGuestStarsinTheOffice.ipynb",
      "provenance": [],
      "include_colab_link": true
    }
  },
  "cells": [
    {
      "cell_type": "markdown",
      "metadata": {
        "id": "view-in-github",
        "colab_type": "text"
      },
      "source": [
        "<a href=\"https://colab.research.google.com/github/JoHussien/DSPAssignments/blob/main/InvestigatingNetflixMoviesandGuestStarsinTheOffice/InvestigatingNetflixMoviesandGuestStarsinTheOffice.ipynb\" target=\"_parent\"><img src=\"https://colab.research.google.com/assets/colab-badge.svg\" alt=\"Open In Colab\"/></a>"
      ]
    },
    {
      "cell_type": "markdown",
      "metadata": {
        "dc": {
          "key": "4"
        },
        "deletable": false,
        "editable": false,
        "run_control": {
          "frozen": true
        },
        "tags": [
          "context"
        ],
        "id": "Z1Q3S9puIqUQ"
      },
      "source": [
        "## 1. Welcome!\n",
        "<p><img src=\"https://assets.datacamp.com/production/project_1170/img/office_cast.jpeg\" alt=\"Markdown\">.</p>\n",
        "<p><strong>The Office!</strong> What started as a British mockumentary series about office culture in 2001 has since spawned ten other variants across the world, including an Israeli version (2010-13), a Hindi version (2019-), and even a French Canadian variant (2006-2007). Of all these iterations (including the original), the American series has been the longest-running, spanning 201 episodes over nine seasons.</p>\n",
        "<p>In this notebook, we will take a look at a dataset of The Office episodes, and try to understand how the popularity and quality of the series varied over time. To do so, we will use the following dataset: <code>datasets/office_episodes.csv</code>, which was downloaded from Kaggle <a href=\"https://www.kaggle.com/nehaprabhavalkar/the-office-dataset\">here</a>.</p>\n",
        "<p>This dataset contains information on a variety of characteristics of each episode. In detail, these are:\n",
        "<br></p>\n",
        "<div style=\"background-color: #efebe4; color: #05192d; text-align:left; vertical-align: middle; padding: 15px 25px 15px 25px; line-height: 1.6;\">\n",
        "    <div style=\"font-size:20px\"><b>datasets/office_episodes.csv</b></div>\n",
        "<ul>\n",
        "    <li><b>episode_number:</b> Canonical episode number.</li>\n",
        "    <li><b>season:</b> Season in which the episode appeared.</li>\n",
        "    <li><b>episode_title:</b> Title of the episode.</li>\n",
        "    <li><b>description:</b> Description of the episode.</li>\n",
        "    <li><b>ratings:</b> Average IMDB rating.</li>\n",
        "    <li><b>votes:</b> Number of votes.</li>\n",
        "    <li><b>viewership_mil:</b> Number of US viewers in millions.</li>\n",
        "    <li><b>duration:</b> Duration in number of minutes.</li>\n",
        "    <li><b>release_date:</b> Airdate.</li>\n",
        "    <li><b>guest_stars:</b> Guest stars in the episode (if any).</li>\n",
        "    <li><b>director:</b> Director of the episode.</li>\n",
        "    <li><b>writers:</b> Writers of the episode.</li>\n",
        "    <li><b>has_guests:</b> True/False column for whether the episode contained guest stars.</li>\n",
        "    <li><b>scaled_ratings:</b> The ratings scaled from 0 (worst-reviewed) to 1 (best-reviewed).</li>\n",
        "</ul>\n",
        "    </div>"
      ]
    },
    {
      "cell_type": "code",
      "metadata": {
        "dc": {
          "key": "4"
        },
        "tags": [
          "sample_code"
        ],
        "collapsed": true,
        "trusted": true,
        "id": "GNdxG3sNIqUU"
      },
      "source": [
        "# Use this cell to begin your analysis, and add as many as you would like!\n",
        "import pandas as pd\n",
        "import numpy as np\n",
        "import matplotlib.pyplot as plt"
      ],
      "execution_count": null,
      "outputs": []
    },
    {
      "cell_type": "code",
      "metadata": {
        "dc": {
          "key": "4"
        },
        "trusted": true,
        "id": "r2Xco46SIqUU",
        "colab": {
          "base_uri": "https://localhost:8080/",
          "height": 530
        },
        "outputId": "85126d72-54f2-4b0c-9b10-967c90e501d1"
      },
      "source": [
        "office = pd.read_csv('office_episodes.csv')\n",
        "office.head()"
      ],
      "execution_count": null,
      "outputs": [
        {
          "output_type": "execute_result",
          "data": {
            "text/html": [
              "<div>\n",
              "<style scoped>\n",
              "    .dataframe tbody tr th:only-of-type {\n",
              "        vertical-align: middle;\n",
              "    }\n",
              "\n",
              "    .dataframe tbody tr th {\n",
              "        vertical-align: top;\n",
              "    }\n",
              "\n",
              "    .dataframe thead th {\n",
              "        text-align: right;\n",
              "    }\n",
              "</style>\n",
              "<table border=\"1\" class=\"dataframe\">\n",
              "  <thead>\n",
              "    <tr style=\"text-align: right;\">\n",
              "      <th></th>\n",
              "      <th>episode_number</th>\n",
              "      <th>season</th>\n",
              "      <th>episode_title</th>\n",
              "      <th>description</th>\n",
              "      <th>ratings</th>\n",
              "      <th>votes</th>\n",
              "      <th>viewership_mil</th>\n",
              "      <th>duration</th>\n",
              "      <th>release_date</th>\n",
              "      <th>guest_stars</th>\n",
              "      <th>director</th>\n",
              "      <th>writers</th>\n",
              "      <th>has_guests</th>\n",
              "      <th>scaled_ratings</th>\n",
              "    </tr>\n",
              "  </thead>\n",
              "  <tbody>\n",
              "    <tr>\n",
              "      <th>0</th>\n",
              "      <td>0</td>\n",
              "      <td>1</td>\n",
              "      <td>Pilot</td>\n",
              "      <td>The premiere episode introduces the boss and s...</td>\n",
              "      <td>7.5</td>\n",
              "      <td>4936</td>\n",
              "      <td>11.2</td>\n",
              "      <td>23</td>\n",
              "      <td>2005-03-24</td>\n",
              "      <td>NaN</td>\n",
              "      <td>Ken Kwapis</td>\n",
              "      <td>Ricky Gervais |Stephen Merchant and Greg Daniels</td>\n",
              "      <td>False</td>\n",
              "      <td>0.28125</td>\n",
              "    </tr>\n",
              "    <tr>\n",
              "      <th>1</th>\n",
              "      <td>1</td>\n",
              "      <td>1</td>\n",
              "      <td>Diversity Day</td>\n",
              "      <td>Michael's off color remark puts a sensitivity ...</td>\n",
              "      <td>8.3</td>\n",
              "      <td>4801</td>\n",
              "      <td>6.0</td>\n",
              "      <td>23</td>\n",
              "      <td>2005-03-29</td>\n",
              "      <td>NaN</td>\n",
              "      <td>Ken Kwapis</td>\n",
              "      <td>B. J. Novak</td>\n",
              "      <td>False</td>\n",
              "      <td>0.53125</td>\n",
              "    </tr>\n",
              "    <tr>\n",
              "      <th>2</th>\n",
              "      <td>2</td>\n",
              "      <td>1</td>\n",
              "      <td>Health Care</td>\n",
              "      <td>Michael leaves Dwight in charge of picking the...</td>\n",
              "      <td>7.8</td>\n",
              "      <td>4024</td>\n",
              "      <td>5.8</td>\n",
              "      <td>22</td>\n",
              "      <td>2005-04-05</td>\n",
              "      <td>NaN</td>\n",
              "      <td>Ken Whittingham</td>\n",
              "      <td>Paul Lieberstein</td>\n",
              "      <td>False</td>\n",
              "      <td>0.37500</td>\n",
              "    </tr>\n",
              "    <tr>\n",
              "      <th>3</th>\n",
              "      <td>3</td>\n",
              "      <td>1</td>\n",
              "      <td>The Alliance</td>\n",
              "      <td>Just for a laugh, Jim agrees to an alliance wi...</td>\n",
              "      <td>8.1</td>\n",
              "      <td>3915</td>\n",
              "      <td>5.4</td>\n",
              "      <td>23</td>\n",
              "      <td>2005-04-12</td>\n",
              "      <td>NaN</td>\n",
              "      <td>Bryan Gordon</td>\n",
              "      <td>Michael Schur</td>\n",
              "      <td>False</td>\n",
              "      <td>0.46875</td>\n",
              "    </tr>\n",
              "    <tr>\n",
              "      <th>4</th>\n",
              "      <td>4</td>\n",
              "      <td>1</td>\n",
              "      <td>Basketball</td>\n",
              "      <td>Michael and his staff challenge the warehouse ...</td>\n",
              "      <td>8.4</td>\n",
              "      <td>4294</td>\n",
              "      <td>5.0</td>\n",
              "      <td>23</td>\n",
              "      <td>2005-04-19</td>\n",
              "      <td>NaN</td>\n",
              "      <td>Greg Daniels</td>\n",
              "      <td>Greg Daniels</td>\n",
              "      <td>False</td>\n",
              "      <td>0.56250</td>\n",
              "    </tr>\n",
              "  </tbody>\n",
              "</table>\n",
              "</div>"
            ],
            "text/plain": [
              "   episode_number  season  ... has_guests scaled_ratings\n",
              "0               0       1  ...      False        0.28125\n",
              "1               1       1  ...      False        0.53125\n",
              "2               2       1  ...      False        0.37500\n",
              "3               3       1  ...      False        0.46875\n",
              "4               4       1  ...      False        0.56250\n",
              "\n",
              "[5 rows x 14 columns]"
            ]
          },
          "metadata": {},
          "execution_count": 5
        }
      ]
    },
    {
      "cell_type": "code",
      "metadata": {
        "dc": {
          "key": "4"
        },
        "trusted": true,
        "id": "Z_YLHiKCIqUV",
        "colab": {
          "base_uri": "https://localhost:8080/"
        },
        "outputId": "65c365b6-8e27-4387-cd4d-6bfc10e77408"
      },
      "source": [
        "#printing some infor about the dataset\n",
        "office.info()"
      ],
      "execution_count": null,
      "outputs": [
        {
          "output_type": "stream",
          "name": "stdout",
          "text": [
            "<class 'pandas.core.frame.DataFrame'>\n",
            "RangeIndex: 188 entries, 0 to 187\n",
            "Data columns (total 14 columns):\n",
            " #   Column          Non-Null Count  Dtype  \n",
            "---  ------          --------------  -----  \n",
            " 0   episode_number  188 non-null    int64  \n",
            " 1   season          188 non-null    int64  \n",
            " 2   episode_title   188 non-null    object \n",
            " 3   description     188 non-null    object \n",
            " 4   ratings         188 non-null    float64\n",
            " 5   votes           188 non-null    int64  \n",
            " 6   viewership_mil  188 non-null    float64\n",
            " 7   duration        188 non-null    int64  \n",
            " 8   release_date    188 non-null    object \n",
            " 9   guest_stars     29 non-null     object \n",
            " 10  director        188 non-null    object \n",
            " 11  writers         188 non-null    object \n",
            " 12  has_guests      188 non-null    bool   \n",
            " 13  scaled_ratings  188 non-null    float64\n",
            "dtypes: bool(1), float64(3), int64(4), object(6)\n",
            "memory usage: 19.4+ KB\n"
          ]
        }
      ]
    },
    {
      "cell_type": "markdown",
      "metadata": {
        "dc": {
          "key": "4"
        },
        "id": "N28-wWHeIqUW"
      },
      "source": [
        "#### So from the above data, the guest_start has only 29 non-null entries. In other words, out of the 188 episodes we have 29 only had gest stars in them."
      ]
    },
    {
      "cell_type": "code",
      "metadata": {
        "dc": {
          "key": "4"
        },
        "trusted": true,
        "id": "3sexhNbuIqUW",
        "colab": {
          "base_uri": "https://localhost:8080/",
          "height": 297
        },
        "outputId": "a7354f77-26bc-49a9-a7b9-4b21ab7bea38"
      },
      "source": [
        "#Printing some statistics about the dataset\n",
        "office.describe()"
      ],
      "execution_count": null,
      "outputs": [
        {
          "output_type": "execute_result",
          "data": {
            "text/html": [
              "<div>\n",
              "<style scoped>\n",
              "    .dataframe tbody tr th:only-of-type {\n",
              "        vertical-align: middle;\n",
              "    }\n",
              "\n",
              "    .dataframe tbody tr th {\n",
              "        vertical-align: top;\n",
              "    }\n",
              "\n",
              "    .dataframe thead th {\n",
              "        text-align: right;\n",
              "    }\n",
              "</style>\n",
              "<table border=\"1\" class=\"dataframe\">\n",
              "  <thead>\n",
              "    <tr style=\"text-align: right;\">\n",
              "      <th></th>\n",
              "      <th>episode_number</th>\n",
              "      <th>season</th>\n",
              "      <th>ratings</th>\n",
              "      <th>votes</th>\n",
              "      <th>viewership_mil</th>\n",
              "      <th>duration</th>\n",
              "      <th>scaled_ratings</th>\n",
              "    </tr>\n",
              "  </thead>\n",
              "  <tbody>\n",
              "    <tr>\n",
              "      <th>count</th>\n",
              "      <td>188.000000</td>\n",
              "      <td>188.000000</td>\n",
              "      <td>188.000000</td>\n",
              "      <td>188.000000</td>\n",
              "      <td>188.000000</td>\n",
              "      <td>188.000000</td>\n",
              "      <td>188.000000</td>\n",
              "    </tr>\n",
              "    <tr>\n",
              "      <th>mean</th>\n",
              "      <td>93.500000</td>\n",
              "      <td>5.468085</td>\n",
              "      <td>8.237234</td>\n",
              "      <td>2838.228723</td>\n",
              "      <td>7.246330</td>\n",
              "      <td>27.053191</td>\n",
              "      <td>0.511636</td>\n",
              "    </tr>\n",
              "    <tr>\n",
              "      <th>std</th>\n",
              "      <td>54.415071</td>\n",
              "      <td>2.386245</td>\n",
              "      <td>0.589930</td>\n",
              "      <td>1063.165290</td>\n",
              "      <td>2.066012</td>\n",
              "      <td>6.937254</td>\n",
              "      <td>0.184353</td>\n",
              "    </tr>\n",
              "    <tr>\n",
              "      <th>min</th>\n",
              "      <td>0.000000</td>\n",
              "      <td>1.000000</td>\n",
              "      <td>6.600000</td>\n",
              "      <td>1832.000000</td>\n",
              "      <td>3.250000</td>\n",
              "      <td>19.000000</td>\n",
              "      <td>0.000000</td>\n",
              "    </tr>\n",
              "    <tr>\n",
              "      <th>25%</th>\n",
              "      <td>46.750000</td>\n",
              "      <td>3.000000</td>\n",
              "      <td>7.800000</td>\n",
              "      <td>2187.750000</td>\n",
              "      <td>5.990000</td>\n",
              "      <td>22.000000</td>\n",
              "      <td>0.375000</td>\n",
              "    </tr>\n",
              "    <tr>\n",
              "      <th>50%</th>\n",
              "      <td>93.500000</td>\n",
              "      <td>6.000000</td>\n",
              "      <td>8.200000</td>\n",
              "      <td>2614.000000</td>\n",
              "      <td>7.535000</td>\n",
              "      <td>23.000000</td>\n",
              "      <td>0.500000</td>\n",
              "    </tr>\n",
              "    <tr>\n",
              "      <th>75%</th>\n",
              "      <td>140.250000</td>\n",
              "      <td>7.250000</td>\n",
              "      <td>8.600000</td>\n",
              "      <td>3144.250000</td>\n",
              "      <td>8.425000</td>\n",
              "      <td>30.000000</td>\n",
              "      <td>0.625000</td>\n",
              "    </tr>\n",
              "    <tr>\n",
              "      <th>max</th>\n",
              "      <td>187.000000</td>\n",
              "      <td>9.000000</td>\n",
              "      <td>9.800000</td>\n",
              "      <td>10515.000000</td>\n",
              "      <td>22.910000</td>\n",
              "      <td>60.000000</td>\n",
              "      <td>1.000000</td>\n",
              "    </tr>\n",
              "  </tbody>\n",
              "</table>\n",
              "</div>"
            ],
            "text/plain": [
              "       episode_number      season  ...    duration  scaled_ratings\n",
              "count      188.000000  188.000000  ...  188.000000      188.000000\n",
              "mean        93.500000    5.468085  ...   27.053191        0.511636\n",
              "std         54.415071    2.386245  ...    6.937254        0.184353\n",
              "min          0.000000    1.000000  ...   19.000000        0.000000\n",
              "25%         46.750000    3.000000  ...   22.000000        0.375000\n",
              "50%         93.500000    6.000000  ...   23.000000        0.500000\n",
              "75%        140.250000    7.250000  ...   30.000000        0.625000\n",
              "max        187.000000    9.000000  ...   60.000000        1.000000\n",
              "\n",
              "[8 rows x 7 columns]"
            ]
          },
          "metadata": {},
          "execution_count": 7
        }
      ]
    },
    {
      "cell_type": "markdown",
      "metadata": {
        "dc": {
          "key": "4"
        },
        "id": "sjT6wS_4IqUX"
      },
      "source": [
        "Another important fact rises here from the above data, that the minum rating an episode had was 6.6 while the maxium rating was 9.8. Again there was a relatively high standard deviation between the episodes' rating equalling 0.589 which means that the episodes rating was a bit variant.\n",
        "Additionally, the office series had an average of 7.246 US million views."
      ]
    },
    {
      "cell_type": "markdown",
      "metadata": {
        "dc": {
          "key": "4"
        },
        "id": "93IvIRWXIqUX"
      },
      "source": [
        "# The  Next step is to plot the data\n",
        "This is a scatter plot of the data that contains the following attributes:\n",
        "\n",
        "Each episode's episode number plotted along the x-axis\n",
        "Each episode's viewership (in millions) plotted along the y-axis"
      ]
    },
    {
      "cell_type": "code",
      "metadata": {
        "dc": {
          "key": "4"
        },
        "trusted": true,
        "id": "Yp04mDLIIqUX",
        "colab": {
          "base_uri": "https://localhost:8080/",
          "height": 312
        },
        "outputId": "90f2656d-b2ae-41fa-d595-589ab3b76fda"
      },
      "source": [
        "fig = plt.figure()\n",
        "plt.scatter(office['episode_number'],office['viewership_mil'])\n",
        "plt.title(\"Popularity, Quality, and Guest Appearances on the Office\")\n",
        "plt.xlabel(\"Episode Number\")\n",
        "plt.ylabel(\"Viewership (Millions)\")\n",
        "plt.legend()\n",
        "plt.grid(True)\n",
        "plt.show()"
      ],
      "execution_count": null,
      "outputs": [
        {
          "output_type": "stream",
          "name": "stderr",
          "text": [
            "No handles with labels found to put in legend.\n"
          ]
        },
        {
          "output_type": "display_data",
          "data": {
            "image/png": "[encoded data removed]",
            "text/plain": [
              "<Figure size 432x288 with 1 Axes>"
            ]
          },
          "metadata": {
            "needs_background": "light"
          }
        }
      ]
    },
    {
      "cell_type": "markdown",
      "metadata": {
        "dc": {
          "key": "4"
        },
        "id": "xKk-R0SuIqUY"
      },
      "source": [
        "### Now we will color our plot based on the following conditions\n",
        "Ratings < 0.25 are colored \"red\"\n",
        "\n",
        "Ratings >= 0.25 and < 0.50 are colored \"orange\"\n",
        "\n",
        "Ratings >= 0.50 and < 0.75 are colored \"lightgreen\"\n",
        "\n",
        "Ratings >= 0.75 are colored \"darkgreen\""
      ]
    },
    {
      "cell_type": "code",
      "metadata": {
        "dc": {
          "key": "4"
        },
        "trusted": true,
        "collapsed": true,
        "id": "QfjwsxxVIqUY"
      },
      "source": [
        "#Generating the color scheme\n",
        "color_scheme = []\n",
        "for ind,row  in office.iterrows():\n",
        "    if row['scaled_ratings'] < 0.25:\n",
        "        color_scheme.append(\"red\")\n",
        "    elif row['scaled_ratings'] >= 0.25 and row['scaled_ratings'] < 0.5:\n",
        "        color_scheme.append(\"orange\")\n",
        "    elif row['scaled_ratings'] >= 0.5 and row['scaled_ratings'] < 0.75:\n",
        "        color_scheme.append(\"lightgreen\")\n",
        "    elif row['scaled_ratings']>=0.75:\n",
        "        color_scheme.append(\"darkgreen\")\n",
        "Ratings = [0.25,0.5,0.75]"
      ],
      "execution_count": null,
      "outputs": []
    },
    {
      "cell_type": "code",
      "metadata": {
        "dc": {
          "key": "4"
        },
        "trusted": true,
        "id": "IlwWn_MdIqUY",
        "colab": {
          "base_uri": "https://localhost:8080/",
          "height": 295
        },
        "outputId": "b9b80e61-60a9-450a-f358-67b5251c68d2"
      },
      "source": [
        "fig = plt.figure()\n",
        "plt.scatter(office['episode_number'],office['viewership_mil'], c=color_scheme)\n",
        "plt.title(\"Popularity, Quality, and Guest Appearances on the Office\")\n",
        "plt.xlabel(\"Episode Number\")\n",
        "plt.ylabel(\"Viewership (Millions)\")\n",
        "plt.grid(True)\n",
        "plt.show()"
      ],
      "execution_count": null,
      "outputs": [
        {
          "output_type": "display_data",
          "data": {
            "image/png": "[encoded data removed]",
            "text/plain": [
              "<Figure size 432x288 with 1 Axes>"
            ]
          },
          "metadata": {
            "needs_background": "light"
          }
        }
      ]
    },
    {
      "cell_type": "markdown",
      "metadata": {
        "dc": {
          "key": "4"
        },
        "id": "jV01HdrCIqUZ"
      },
      "source": [
        "# Sizing the plot\n",
        "We will introduce a sizing system to the plot such that:\n",
        "\n",
        "Episodes with guest appearances have a marker size of 250\n",
        "\n",
        "Episodes without are sized 25"
      ]
    },
    {
      "cell_type": "code",
      "metadata": {
        "dc": {
          "key": "4"
        },
        "trusted": true,
        "id": "o6O8UxMZIqUZ",
        "colab": {
          "base_uri": "https://localhost:8080/"
        },
        "outputId": "85bc8d35-e948-48fe-c69b-c3cbc8278229"
      },
      "source": [
        "#Creating the sizing system\n",
        "sizing_system = []\n",
        "for ind,row  in office.iterrows():\n",
        "    if row['has_guests'] == True:\n",
        "        sizing_system.append(250)\n",
        "    elif row['has_guests'] == False:\n",
        "        sizing_system.append(25)\n",
        "print(sizing_system)"
      ],
      "execution_count": null,
      "outputs": [
        {
          "output_type": "stream",
          "name": "stdout",
          "text": [
            "[25, 25, 25, 25, 25, 250, 25, 25, 250, 250, 25, 25, 250, 25, 250, 25, 250, 25, 25, 25, 25, 250, 25, 25, 25, 25, 25, 25, 25, 250, 25, 25, 25, 25, 25, 25, 25, 25, 25, 25, 25, 25, 25, 25, 25, 25, 25, 25, 25, 25, 25, 25, 25, 250, 25, 25, 25, 25, 25, 25, 25, 25, 25, 25, 25, 25, 250, 25, 25, 25, 25, 25, 25, 25, 25, 25, 25, 250, 25, 25, 25, 25, 250, 25, 25, 25, 25, 25, 25, 25, 25, 25, 25, 25, 25, 25, 250, 25, 25, 25, 25, 25, 25, 25, 25, 250, 25, 25, 250, 25, 25, 25, 25, 25, 25, 25, 25, 250, 25, 25, 25, 250, 25, 25, 25, 25, 25, 25, 25, 250, 250, 25, 25, 25, 25, 250, 25, 25, 25, 25, 25, 25, 25, 25, 250, 25, 25, 25, 25, 250, 25, 25, 25, 25, 25, 25, 25, 25, 25, 25, 25, 25, 25, 250, 25, 25, 25, 25, 25, 250, 250, 25, 25, 25, 250, 25, 25, 25, 25, 25, 25, 25, 250, 25, 25, 250, 25, 250]\n"
          ]
        }
      ]
    },
    {
      "cell_type": "code",
      "metadata": {
        "dc": {
          "key": "4"
        },
        "trusted": true,
        "collapsed": true,
        "id": "2xkVE2K6IqUZ"
      },
      "source": [
        ""
      ],
      "execution_count": null,
      "outputs": []
    },
    {
      "cell_type": "code",
      "metadata": {
        "dc": {
          "key": "4"
        },
        "trusted": true,
        "id": "c44bJ5KPIqUZ",
        "colab": {
          "base_uri": "https://localhost:8080/",
          "height": 295
        },
        "outputId": "204cb410-62f5-47a4-f943-923fa3aa6e59"
      },
      "source": [
        "#Applying the sizing sytem on the plot\n",
        "fig = plt.figure()\n",
        "plt.scatter(office['episode_number'],office['viewership_mil'],s=sizing_system , c=color_scheme)\n",
        "plt.title(\"Popularity, Quality, and Guest Appearances on the Office\")\n",
        "plt.xlabel(\"Episode Number\")\n",
        "plt.ylabel(\"Viewership (Millions)\")\n",
        "plt.grid(True)\n",
        "plt.show()"
      ],
      "execution_count": null,
      "outputs": [
        {
          "output_type": "display_data",
          "data": {
            "image/png": "[encoded data removed]",
            "text/plain": [
              "<Figure size 432x288 with 1 Axes>"
            ]
          },
          "metadata": {
            "needs_background": "light"
          }
        }
      ]
    },
    {
      "cell_type": "markdown",
      "metadata": {
        "dc": {
          "key": "4"
        },
        "id": "CQ4QyJ3fIqUa"
      },
      "source": [
        "# Bonus Step\n",
        "Differentiating Guest appearances not just with size, but also with a star! Using the marker attribute"
      ]
    },
    {
      "cell_type": "code",
      "metadata": {
        "dc": {
          "key": "4"
        },
        "trusted": true,
        "id": "jii5G2pFIqUa",
        "colab": {
          "base_uri": "https://localhost:8080/"
        },
        "outputId": "800943cd-8b97-432b-979f-4265f6e60949"
      },
      "source": [
        "#Creating the marking system\n",
        "marking_system = []\n",
        "hasGuests = office[office['has_guests']==True]\n",
        "sizing_system_guests = []\n",
        "for ind,row  in hasGuests.iterrows():\n",
        "    if row['has_guests'] == True:\n",
        "        sizing_system_guests.append(250)\n",
        "    elif row['has_guests'] == False:\n",
        "        sizing_system_guests.append(25)\n",
        "color_scheme_guests = []\n",
        "for ind,row  in hasGuests.iterrows():\n",
        "    if row['scaled_ratings'] < 0.25:\n",
        "        color_scheme_guests.append(\"red\")\n",
        "    elif row['scaled_ratings'] >= 0.25 and row['scaled_ratings'] < 0.5:\n",
        "        color_scheme_guests.append(\"orange\")\n",
        "    elif row['scaled_ratings'] >= 0.5 and row['scaled_ratings'] < 0.75:\n",
        "        color_scheme_guests.append(\"lightgreen\")\n",
        "    elif row['scaled_ratings']>=0.75:\n",
        "        color_scheme_guests.append(\"darkgreen\")\n",
        "\n",
        "NotHasGuests = office[office['has_guests']==False]\n",
        "sizing_system_No_guests = []\n",
        "for ind,row  in NotHasGuests.iterrows():\n",
        "    if row['has_guests'] == True:\n",
        "        sizing_system_No_guests.append(250)\n",
        "    elif row['has_guests'] == False:\n",
        "        sizing_system_No_guests.append(25)\n",
        "color_scheme_No_guests = []\n",
        "for ind,row  in NotHasGuests.iterrows():\n",
        "    if row['scaled_ratings'] < 0.25:\n",
        "        color_scheme_No_guests.append(\"red\")\n",
        "    elif row['scaled_ratings'] >= 0.25 and row['scaled_ratings'] < 0.5:\n",
        "        color_scheme_No_guests.append(\"orange\")\n",
        "    elif row['scaled_ratings'] >= 0.5 and row['scaled_ratings'] < 0.75:\n",
        "        color_scheme_No_guests.append(\"lightgreen\")\n",
        "    elif row['scaled_ratings']>=0.75:\n",
        "        color_scheme_No_guests.append(\"darkgreen\")\n",
        "        \n",
        "print(len(color_scheme_No_guests), len(NotHasGuests), len(sizing_system_No_guests))"
      ],
      "execution_count": null,
      "outputs": [
        {
          "output_type": "stream",
          "name": "stdout",
          "text": [
            "159 159 159\n"
          ]
        }
      ]
    },
    {
      "cell_type": "code",
      "metadata": {
        "dc": {
          "key": "4"
        },
        "trusted": true,
        "id": "osALzE6CIqUa",
        "colab": {
          "base_uri": "https://localhost:8080/",
          "height": 295
        },
        "outputId": "940d35f8-b3e1-44f9-9c3f-648a8119d4b9"
      },
      "source": [
        "#Applying the marking sytem on the plot by creating two plots one for episodes without guest stars \n",
        "#and those marker will be normal while the other plot which will be over it it will be for \n",
        "#episodes with guest stars and those will have a marker of *\n",
        "fig = plt.figure()\n",
        "plt.scatter(NotHasGuests['episode_number'],NotHasGuests['viewership_mil'],s=sizing_system_No_guests , c=color_scheme_No_guests, )\n",
        "\n",
        "plt.scatter(hasGuests['episode_number'],hasGuests['viewership_mil'],s=sizing_system_guests , c=color_scheme_guests, marker=\"*\")\n",
        "plt.title(\"Popularity, Quality, and Guest Appearances on the Office\")\n",
        "plt.xlabel(\"Episode Number\")\n",
        "plt.ylabel(\"Viewership (Millions)\")\n",
        "\n",
        "plt.grid(True)\n",
        "plt.show()"
      ],
      "execution_count": null,
      "outputs": [
        {
          "output_type": "display_data",
          "data": {
            "image/png": "[encoded data removed]",
            "text/plain": [
              "<Figure size 432x288 with 1 Axes>"
            ]
          },
          "metadata": {
            "needs_background": "light"
          }
        }
      ]
    },
    {
      "cell_type": "markdown",
      "metadata": {
        "dc": {
          "key": "4"
        },
        "id": "ut-h0LOGIqUb"
      },
      "source": [
        "# The name of one of the guest stars who were in the most watched Office episode. "
      ]
    },
    {
      "cell_type": "code",
      "metadata": {
        "dc": {
          "key": "4"
        },
        "trusted": true,
        "id": "LSeZ-DykIqUb",
        "colab": {
          "base_uri": "https://localhost:8080/"
        },
        "outputId": "d2671598-dc1a-448c-a292-a00ad4d7eaae"
      },
      "source": [
        "maximum_viewed_episode = office[office['viewership_mil'] == office['viewership_mil'].max()]\n",
        "# print(maximum_viewed_episode)\n",
        "top_stars = maximum_viewed_episode['guest_stars']\n",
        "print(top_stars)"
      ],
      "execution_count": null,
      "outputs": [
        {
          "output_type": "stream",
          "name": "stdout",
          "text": [
            "77    Cloris Leachman, Jack Black, Jessica Alba\n",
            "Name: guest_stars, dtype: object\n"
          ]
        }
      ]
    },
    {
      "cell_type": "code",
      "metadata": {
        "dc": {
          "key": "4"
        },
        "trusted": true,
        "collapsed": true,
        "id": "vyh9vFYjIqUc"
      },
      "source": [
        "top_star = \"Cloris Leachman\""
      ],
      "execution_count": null,
      "outputs": []
    },
    {
      "cell_type": "code",
      "metadata": {
        "dc": {
          "key": "4"
        },
        "trusted": true,
        "collapsed": true,
        "id": "Uvvp7H5AIqUc"
      },
      "source": [
        ""
      ],
      "execution_count": null,
      "outputs": []
    }
  ]
}